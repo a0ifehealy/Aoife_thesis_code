{
 "cells": [
  {
   "cell_type": "code",
   "execution_count": 38,
   "metadata": {
    "tags": []
   },
   "outputs": [],
   "source": [
    "using ModelingToolkit\n",
    "using Plots\n",
    "using DifferentialEquations\n",
    "using IfElse\n",
    "using ModelingToolkit"
   ]
  },
  {
   "cell_type": "code",
   "execution_count": 39,
   "metadata": {},
   "outputs": [
    {
     "data": {
      "text/plain": [
       "(::Differential) (generic function with 3 methods)"
      ]
     },
     "execution_count": 39,
     "metadata": {},
     "output_type": "execute_result"
    }
   ],
   "source": [
    "@variables t\n",
    "D = Differential(t)"
   ]
  },
  {
   "cell_type": "markdown",
   "metadata": {},
   "source": [
    "# Defining components"
   ]
  },
  {
   "cell_type": "code",
   "execution_count": 40,
   "metadata": {},
   "outputs": [
    {
     "ename": "LoadError",
     "evalue": "LoadError: `@extend` only takes an assignment expression. Got OnePort()\nin expression starting at In[40]:39",
     "output_type": "error",
     "traceback": [
      "LoadError: `@extend` only takes an assignment expression. Got OnePort()\nin expression starting at In[40]:39",
      "",
      "Stacktrace:",
      " [1] error(s::String)",
      "   @ Base ./error.jl:35",
      " [2] parse_extend!(exprs::Vector{Any}, ext::Base.RefValue{Any}, dict::Dict{Symbol, Any}, body::Expr, kwargs::Vector{Any})",
      "   @ ModelingToolkit ~/.julia/packages/ModelingToolkit/ZmLra/src/systems/model_parsing.jl:403",
      " [3] parse_model!(exprs::Vector{Any}, comps::Vector{Symbol}, ext::Base.RefValue{Any}, eqs::Vector{Expr}, icon::Base.RefValue{Union{String, URIs.URI}}, vs::Vector{Any}, ps::Vector{Any}, sps::Vector{Any}, dict::Dict{Symbol, Any}, mod::Module, arg::Expr, kwargs::Vector{Any})",
      "   @ ModelingToolkit ~/.julia/packages/ModelingToolkit/ZmLra/src/systems/model_parsing.jl:240",
      " [4] _model_macro(mod::Module, name::Symbol, expr::Expr, isconnector::Bool)",
      "   @ ModelingToolkit ~/.julia/packages/ModelingToolkit/ZmLra/src/systems/model_parsing.jl:49",
      " [5] var\"@mtkmodel\"(__source__::LineNumberNode, __module__::Module, name::Symbol, body::Any)",
      "   @ ModelingToolkit ~/.julia/packages/ModelingToolkit/ZmLra/src/systems/model_parsing.jl:31"
     ]
    }
   ],
   "source": [
    "# Pin\n",
    "\n",
    "@connector Pin begin\n",
    "    p(t)\n",
    "    q(t), [connect = Flow]\n",
    "end\n",
    "\n",
    "# Ground\n",
    "\n",
    "@mtkmodel Ground begin\n",
    "    @components begin\n",
    "        g = Pin()\n",
    "    end\n",
    "    @equations begin\n",
    "        g.p ~ 0\n",
    "    end\n",
    "end\n",
    "\n",
    "# OnePort\n",
    "\n",
    "@mtkmodel OnePort begin\n",
    "    @components begin\n",
    "        in = Pin()\n",
    "        out = Pin()\n",
    "    end\n",
    "    @variables begin\n",
    "        Δp(t)\n",
    "        q(t)\n",
    "    end\n",
    "    @equations begin\n",
    "        Δp ~ out.p - in.p\n",
    "        0 ~ in.q + out.q\n",
    "        q ~ in.q\n",
    "    end\n",
    "end\n",
    "\n",
    "# Resistor\n",
    "\n",
    "@mtkmodel Resistor begin\n",
    "    @extend OnePort()\n",
    "    @parameters begin\n",
    "        R = 1.0 # Sets the default resistance\n",
    "    end\n",
    "    @equations begin\n",
    "        Δp ~ -q * R\n",
    "    end\n",
    "end\n",
    "\n",
    "# Capacitor\n",
    "\n",
    "@mtkmodel Capacitor begin\n",
    "    @extend OnePort()\n",
    "    @parameters begin\n",
    "        C = 1.0\n",
    "    end\n",
    "    @equations begin\n",
    "        D(Δp) ~ -q / C\n",
    "    end\n",
    "end\n",
    "\n",
    "# Inductor\n",
    "\n",
    "@mtkmodel Inductor begin\n",
    "    @extend OnePort()\n",
    "    @parameters begin\n",
    "        L = 1.0\n",
    "    end\n",
    "    @equations begin\n",
    "        D(q) ~ -Δp / L\n",
    "    end\n",
    "end\n",
    "\n",
    "# Driven Current\n",
    "\n",
    "@mtkmodel DrivenCurrent begin\n",
    "    @extend OnePort()\n",
    "    @parameters begin\n",
    "        Q = 1.0\n",
    "    end\n",
    "    @equations begin\n",
    "        q ~ Q * flow(t)\n",
    "    end\n",
    "end"
   ]
  },
  {
   "cell_type": "markdown",
   "metadata": {},
   "source": [
    "# Bloodflow function"
   ]
  },
  {
   "cell_type": "code",
   "execution_count": 41,
   "metadata": {},
   "outputs": [
    {
     "data": {
      "text/plain": [
       "0.003"
      ]
     },
     "execution_count": 41,
     "metadata": {},
     "output_type": "execute_result"
    }
   ],
   "source": [
    "C = 1.1\n",
    "R = 0.9\n",
    "R_2 = 1.1\n",
    "A = 90     # mL/s\n",
    "B = 1\n",
    "r = 0.05\n",
    "L = 0.003"
   ]
  },
  {
   "cell_type": "code",
   "execution_count": 42,
   "metadata": {},
   "outputs": [
    {
     "data": {
      "text/plain": [
       "flow (generic function with 1 method)"
      ]
     },
     "execution_count": 42,
     "metadata": {},
     "output_type": "execute_result"
    }
   ],
   "source": [
    "function flow(t)\n",
    "    # t = rem(t, B)\n",
    "    # bloodflow = A*sin(2*π*t/(B))\n",
    "    bloodflow = A*sin(2*π*t/(B)-pi/2)+A\n",
    "    return bloodflow\n",
    "    # return max(0,bloodflow)\n",
    "    # result = IfElse.ifelse(t<B/4,bloodflow,0)\n",
    "    # if t<B/4\n",
    "    #     return bloodflow\n",
    "    # else\n",
    "    #     return 0\n",
    "    # end\n",
    "end"
   ]
  },
  {
   "cell_type": "code",
   "execution_count": 43,
   "metadata": {},
   "outputs": [
    {
     "data": {
      "image/png": "[encoded data removed]",
      "image/svg+xml": [
       "<?xml version=\"1.0\" encoding=\"utf-8\"?>\n",
       "<svg xmlns=\"http://www.w3.org/2000/svg\" xmlns:xlink=\"http://www.w3.org/1999/xlink\" width=\"600\" height=\"400\" viewBox=\"0 0 2400 1600\">\n",
       "<defs>\n",
       "  <clipPath id=\"clip150\">\n",
       "    <rect x=\"0\" y=\"0\" width=\"2400\" height=\"1600\"/>\n",
       "  </clipPath>\n",
       "</defs>\n",
       "<path clip-path=\"url(#clip150)\" d=\"M0 1600 L2400 1600 L2400 0 L0 0  Z\" fill=\"#ffffff\" fill-rule=\"evenodd\" fill-opacity=\"1\"/>\n",
       "<defs>\n",
       "  <clipPath id=\"clip151\">\n",
       "    <rect x=\"480\" y=\"0\" width=\"1681\" height=\"1600\"/>\n",
       "  </clipPath>\n",
       "</defs>\n",
       "<path clip-path=\"url(#clip150)\" d=\"M169.121 1486.45 L2352.76 1486.45 L2352.76 47.2441 L169.121 47.2441  Z\" fill=\"#ffffff\" fill-rule=\"evenodd\" fill-opacity=\"1\"/>\n",
       "<defs>\n",
       "  <clipPath id=\"clip152\">\n",
       "    <rect x=\"169\" y=\"47\" width=\"2185\" height=\"1440\"/>\n",
       "  </clipPath>\n",
       "</defs>\n",
       "<polyline clip-path=\"url(#clip152)\" style=\"stroke:#000000; stroke-linecap:round; stroke-linejoin:round; stroke-width:2; stroke-opacity:0.1; fill:none\" points=\"230.922,1486.45 230.922,47.2441 \"/>\n",
       "<polyline clip-path=\"url(#clip152)\" style=\"stroke:#000000; stroke-linecap:round; stroke-linejoin:round; stroke-width:2; stroke-opacity:0.1; fill:none\" points=\"642.929,1486.45 642.929,47.2441 \"/>\n",
       "<polyline clip-path=\"url(#clip152)\" style=\"stroke:#000000; stroke-linecap:round; stroke-linejoin:round; stroke-width:2; stroke-opacity:0.1; fill:none\" points=\"1054.94,1486.45 1054.94,47.2441 \"/>\n",
       "<polyline clip-path=\"url(#clip152)\" style=\"stroke:#000000; stroke-linecap:round; stroke-linejoin:round; stroke-width:2; stroke-opacity:0.1; fill:none\" points=\"1466.94,1486.45 1466.94,47.2441 \"/>\n",
       "<polyline clip-path=\"url(#clip152)\" style=\"stroke:#000000; stroke-linecap:round; stroke-linejoin:round; stroke-width:2; stroke-opacity:0.1; fill:none\" points=\"1878.95,1486.45 1878.95,47.2441 \"/>\n",
       "<polyline clip-path=\"url(#clip152)\" style=\"stroke:#000000; stroke-linecap:round; stroke-linejoin:round; stroke-width:2; stroke-opacity:0.1; fill:none\" points=\"2290.95,1486.45 2290.95,47.2441 \"/>\n",
       "<polyline clip-path=\"url(#clip150)\" style=\"stroke:#000000; stroke-linecap:round; stroke-linejoin:round; stroke-width:4; stroke-opacity:1; fill:none\" points=\"169.121,1486.45 2352.76,1486.45 \"/>\n",
       "<polyline clip-path=\"url(#clip150)\" style=\"stroke:#000000; stroke-linecap:round; stroke-linejoin:round; stroke-width:4; stroke-opacity:1; fill:none\" points=\"230.922,1486.45 230.922,1467.55 \"/>\n",
       "<polyline clip-path=\"url(#clip150)\" style=\"stroke:#000000; stroke-linecap:round; stroke-linejoin:round; stroke-width:4; stroke-opacity:1; fill:none\" points=\"642.929,1486.45 642.929,1467.55 \"/>\n",
       "<polyline clip-path=\"url(#clip150)\" style=\"stroke:#000000; stroke-linecap:round; stroke-linejoin:round; stroke-width:4; stroke-opacity:1; fill:none\" points=\"1054.94,1486.45 1054.94,1467.55 \"/>\n",
       "<polyline clip-path=\"url(#clip150)\" style=\"stroke:#000000; stroke-linecap:round; stroke-linejoin:round; stroke-width:4; stroke-opacity:1; fill:none\" points=\"1466.94,1486.45 1466.94,1467.55 \"/>\n",
       "<polyline clip-path=\"url(#clip150)\" style=\"stroke:#000000; stroke-linecap:round; stroke-linejoin:round; stroke-width:4; stroke-opacity:1; fill:none\" points=\"1878.95,1486.45 1878.95,1467.55 \"/>\n",
       "<polyline clip-path=\"url(#clip150)\" style=\"stroke:#000000; stroke-linecap:round; stroke-linejoin:round; stroke-width:4; stroke-opacity:1; fill:none\" points=\"2290.95,1486.45 2290.95,1467.55 \"/>\n",
       "<path clip-path=\"url(#clip150)\" d=\"M230.922 1517.37 Q227.311 1517.37 225.483 1520.93 Q223.677 1524.47 223.677 1531.6 Q223.677 1538.71 225.483 1542.27 Q227.311 1545.82 230.922 1545.82 Q234.557 1545.82 236.362 1542.27 Q238.191 1538.71 238.191 1531.6 Q238.191 1524.47 236.362 1520.93 Q234.557 1517.37 230.922 1517.37 M230.922 1513.66 Q236.732 1513.66 239.788 1518.27 Q242.867 1522.85 242.867 1531.6 Q242.867 1540.33 239.788 1544.94 Q236.732 1549.52 230.922 1549.52 Q225.112 1549.52 222.033 1544.94 Q218.978 1540.33 218.978 1531.6 Q218.978 1522.85 222.033 1518.27 Q225.112 1513.66 230.922 1513.66 Z\" fill=\"#000000\" fill-rule=\"nonzero\" fill-opacity=\"1\" /><path clip-path=\"url(#clip150)\" d=\"M633.311 1544.91 L640.95 1544.91 L640.95 1518.55 L632.64 1520.21 L632.64 1515.95 L640.903 1514.29 L645.579 1514.29 L645.579 1544.91 L653.218 1544.91 L653.218 1548.85 L633.311 1548.85 L633.311 1544.91 Z\" fill=\"#000000\" fill-rule=\"nonzero\" fill-opacity=\"1\" /><path clip-path=\"url(#clip150)\" d=\"M1049.59 1544.91 L1065.91 1544.91 L1065.91 1548.85 L1043.96 1548.85 L1043.96 1544.91 Q1046.63 1542.16 1051.21 1537.53 Q1055.81 1532.88 1057 1531.53 Q1059.24 1529.01 1060.12 1527.27 Q1061.02 1525.51 1061.02 1523.82 Q1061.02 1521.07 1059.08 1519.33 Q1057.16 1517.6 1054.06 1517.6 Q1051.86 1517.6 1049.4 1518.36 Q1046.97 1519.13 1044.19 1520.68 L1044.19 1515.95 Q1047.02 1514.82 1049.47 1514.24 Q1051.93 1513.66 1053.96 1513.66 Q1059.33 1513.66 1062.53 1516.35 Q1065.72 1519.03 1065.72 1523.52 Q1065.72 1525.65 1064.91 1527.57 Q1064.13 1529.47 1062.02 1532.07 Q1061.44 1532.74 1058.34 1535.95 Q1055.24 1539.15 1049.59 1544.91 Z\" fill=\"#000000\" fill-rule=\"nonzero\" fill-opacity=\"1\" /><path clip-path=\"url(#clip150)\" d=\"M1471.19 1530.21 Q1474.55 1530.93 1476.42 1533.2 Q1478.32 1535.47 1478.32 1538.8 Q1478.32 1543.92 1474.8 1546.72 Q1471.28 1549.52 1464.8 1549.52 Q1462.62 1549.52 1460.31 1549.08 Q1458.02 1548.66 1455.56 1547.81 L1455.56 1543.29 Q1457.51 1544.43 1459.82 1545.01 Q1462.14 1545.58 1464.66 1545.58 Q1469.06 1545.58 1471.35 1543.85 Q1473.67 1542.11 1473.67 1538.8 Q1473.67 1535.75 1471.51 1534.03 Q1469.38 1532.3 1465.56 1532.3 L1461.54 1532.3 L1461.54 1528.45 L1465.75 1528.45 Q1469.2 1528.45 1471.03 1527.09 Q1472.86 1525.7 1472.86 1523.11 Q1472.86 1520.45 1470.96 1519.03 Q1469.08 1517.6 1465.56 1517.6 Q1463.64 1517.6 1461.44 1518.01 Q1459.25 1518.43 1456.61 1519.31 L1456.61 1515.14 Q1459.27 1514.4 1461.58 1514.03 Q1463.92 1513.66 1465.98 1513.66 Q1471.31 1513.66 1474.41 1516.09 Q1477.51 1518.5 1477.51 1522.62 Q1477.51 1525.49 1475.87 1527.48 Q1474.22 1529.45 1471.19 1530.21 Z\" fill=\"#000000\" fill-rule=\"nonzero\" fill-opacity=\"1\" /><path clip-path=\"url(#clip150)\" d=\"M1881.96 1518.36 L1870.15 1536.81 L1881.96 1536.81 L1881.96 1518.36 M1880.73 1514.29 L1886.61 1514.29 L1886.61 1536.81 L1891.54 1536.81 L1891.54 1540.7 L1886.61 1540.7 L1886.61 1548.85 L1881.96 1548.85 L1881.96 1540.7 L1866.36 1540.7 L1866.36 1536.19 L1880.73 1514.29 Z\" fill=\"#000000\" fill-rule=\"nonzero\" fill-opacity=\"1\" /><path clip-path=\"url(#clip150)\" d=\"M2281.23 1514.29 L2299.59 1514.29 L2299.59 1518.22 L2285.52 1518.22 L2285.52 1526.7 Q2286.53 1526.35 2287.55 1526.19 Q2288.57 1526 2289.59 1526 Q2295.38 1526 2298.76 1529.17 Q2302.14 1532.34 2302.14 1537.76 Q2302.14 1543.34 2298.66 1546.44 Q2295.19 1549.52 2288.87 1549.52 Q2286.7 1549.52 2284.43 1549.15 Q2282.18 1548.78 2279.77 1548.04 L2279.77 1543.34 Q2281.86 1544.47 2284.08 1545.03 Q2286.3 1545.58 2288.78 1545.58 Q2292.78 1545.58 2295.12 1543.48 Q2297.46 1541.37 2297.46 1537.76 Q2297.46 1534.15 2295.12 1532.04 Q2292.78 1529.94 2288.78 1529.94 Q2286.9 1529.94 2285.03 1530.35 Q2283.18 1530.77 2281.23 1531.65 L2281.23 1514.29 Z\" fill=\"#000000\" fill-rule=\"nonzero\" fill-opacity=\"1\" /><polyline clip-path=\"url(#clip152)\" style=\"stroke:#000000; stroke-linecap:round; stroke-linejoin:round; stroke-width:2; stroke-opacity:0.1; fill:none\" points=\"169.121,1445.72 2352.76,1445.72 \"/>\n",
       "<polyline clip-path=\"url(#clip152)\" style=\"stroke:#000000; stroke-linecap:round; stroke-linejoin:round; stroke-width:2; stroke-opacity:0.1; fill:none\" points=\"169.121,1068.57 2352.76,1068.57 \"/>\n",
       "<polyline clip-path=\"url(#clip152)\" style=\"stroke:#000000; stroke-linecap:round; stroke-linejoin:round; stroke-width:2; stroke-opacity:0.1; fill:none\" points=\"169.121,691.416 2352.76,691.416 \"/>\n",
       "<polyline clip-path=\"url(#clip152)\" style=\"stroke:#000000; stroke-linecap:round; stroke-linejoin:round; stroke-width:2; stroke-opacity:0.1; fill:none\" points=\"169.121,314.266 2352.76,314.266 \"/>\n",
       "<polyline clip-path=\"url(#clip150)\" style=\"stroke:#000000; stroke-linecap:round; stroke-linejoin:round; stroke-width:4; stroke-opacity:1; fill:none\" points=\"169.121,1486.45 169.121,47.2441 \"/>\n",
       "<polyline clip-path=\"url(#clip150)\" style=\"stroke:#000000; stroke-linecap:round; stroke-linejoin:round; stroke-width:4; stroke-opacity:1; fill:none\" points=\"169.121,1445.72 188.019,1445.72 \"/>\n",
       "<polyline clip-path=\"url(#clip150)\" style=\"stroke:#000000; stroke-linecap:round; stroke-linejoin:round; stroke-width:4; stroke-opacity:1; fill:none\" points=\"169.121,1068.57 188.019,1068.57 \"/>\n",
       "<polyline clip-path=\"url(#clip150)\" style=\"stroke:#000000; stroke-linecap:round; stroke-linejoin:round; stroke-width:4; stroke-opacity:1; fill:none\" points=\"169.121,691.416 188.019,691.416 \"/>\n",
       "<polyline clip-path=\"url(#clip150)\" style=\"stroke:#000000; stroke-linecap:round; stroke-linejoin:round; stroke-width:4; stroke-opacity:1; fill:none\" points=\"169.121,314.266 188.019,314.266 \"/>\n",
       "<path clip-path=\"url(#clip150)\" d=\"M121.177 1431.51 Q117.566 1431.51 115.737 1435.08 Q113.932 1438.62 113.932 1445.75 Q113.932 1452.86 115.737 1456.42 Q117.566 1459.96 121.177 1459.96 Q124.811 1459.96 126.617 1456.42 Q128.445 1452.86 128.445 1445.75 Q128.445 1438.62 126.617 1435.08 Q124.811 1431.51 121.177 1431.51 M121.177 1427.81 Q126.987 1427.81 130.043 1432.42 Q133.121 1437 133.121 1445.75 Q133.121 1454.48 130.043 1459.08 Q126.987 1463.67 121.177 1463.67 Q115.367 1463.67 112.288 1459.08 Q109.233 1454.48 109.233 1445.75 Q109.233 1437 112.288 1432.42 Q115.367 1427.81 121.177 1427.81 Z\" fill=\"#000000\" fill-rule=\"nonzero\" fill-opacity=\"1\" /><path clip-path=\"url(#clip150)\" d=\"M81.0614 1051.29 L99.4178 1051.29 L99.4178 1055.22 L85.3438 1055.22 L85.3438 1063.69 Q86.3623 1063.35 87.3808 1063.18 Q88.3993 1063 89.4178 1063 Q95.2049 1063 98.5845 1066.17 Q101.964 1069.34 101.964 1074.76 Q101.964 1080.34 98.4919 1083.44 Q95.0197 1086.52 88.7003 1086.52 Q86.5243 1086.52 84.2558 1086.15 Q82.0105 1085.78 79.6031 1085.04 L79.6031 1080.34 Q81.6864 1081.47 83.9086 1082.03 Q86.1308 1082.58 88.6077 1082.58 Q92.6123 1082.58 94.9502 1080.48 Q97.2882 1078.37 97.2882 1074.76 Q97.2882 1071.15 94.9502 1069.04 Q92.6123 1066.93 88.6077 1066.93 Q86.7327 1066.93 84.8577 1067.35 Q83.0058 1067.77 81.0614 1068.65 L81.0614 1051.29 Z\" fill=\"#000000\" fill-rule=\"nonzero\" fill-opacity=\"1\" /><path clip-path=\"url(#clip150)\" d=\"M121.177 1054.36 Q117.566 1054.36 115.737 1057.93 Q113.932 1061.47 113.932 1068.6 Q113.932 1075.71 115.737 1079.27 Q117.566 1082.81 121.177 1082.81 Q124.811 1082.81 126.617 1079.27 Q128.445 1075.71 128.445 1068.6 Q128.445 1061.47 126.617 1057.93 Q124.811 1054.36 121.177 1054.36 M121.177 1050.66 Q126.987 1050.66 130.043 1055.27 Q133.121 1059.85 133.121 1068.6 Q133.121 1077.33 130.043 1081.93 Q126.987 1086.52 121.177 1086.52 Q115.367 1086.52 112.288 1081.93 Q109.233 1077.33 109.233 1068.6 Q109.233 1059.85 112.288 1055.27 Q115.367 1050.66 121.177 1050.66 Z\" fill=\"#000000\" fill-rule=\"nonzero\" fill-opacity=\"1\" /><path clip-path=\"url(#clip150)\" d=\"M51.6634 704.761 L59.3023 704.761 L59.3023 678.395 L50.9921 680.062 L50.9921 675.803 L59.256 674.136 L63.9319 674.136 L63.9319 704.761 L71.5707 704.761 L71.5707 708.696 L51.6634 708.696 L51.6634 704.761 Z\" fill=\"#000000\" fill-rule=\"nonzero\" fill-opacity=\"1\" /><path clip-path=\"url(#clip150)\" d=\"M91.0151 677.215 Q87.404 677.215 85.5753 680.779 Q83.7697 684.321 83.7697 691.451 Q83.7697 698.557 85.5753 702.122 Q87.404 705.664 91.0151 705.664 Q94.6493 705.664 96.4548 702.122 Q98.2835 698.557 98.2835 691.451 Q98.2835 684.321 96.4548 680.779 Q94.6493 677.215 91.0151 677.215 M91.0151 673.511 Q96.8252 673.511 99.8808 678.117 Q102.959 682.701 102.959 691.451 Q102.959 700.178 99.8808 704.784 Q96.8252 709.367 91.0151 709.367 Q85.2049 709.367 82.1262 704.784 Q79.0707 700.178 79.0707 691.451 Q79.0707 682.701 82.1262 678.117 Q85.2049 673.511 91.0151 673.511 Z\" fill=\"#000000\" fill-rule=\"nonzero\" fill-opacity=\"1\" /><path clip-path=\"url(#clip150)\" d=\"M121.177 677.215 Q117.566 677.215 115.737 680.779 Q113.932 684.321 113.932 691.451 Q113.932 698.557 115.737 702.122 Q117.566 705.664 121.177 705.664 Q124.811 705.664 126.617 702.122 Q128.445 698.557 128.445 691.451 Q128.445 684.321 126.617 680.779 Q124.811 677.215 121.177 677.215 M121.177 673.511 Q126.987 673.511 130.043 678.117 Q133.121 682.701 133.121 691.451 Q133.121 700.178 130.043 704.784 Q126.987 709.367 121.177 709.367 Q115.367 709.367 112.288 704.784 Q109.233 700.178 109.233 691.451 Q109.233 682.701 112.288 678.117 Q115.367 673.511 121.177 673.511 Z\" fill=\"#000000\" fill-rule=\"nonzero\" fill-opacity=\"1\" /><path clip-path=\"url(#clip150)\" d=\"M51.6634 327.611 L59.3023 327.611 L59.3023 301.245 L50.9921 302.912 L50.9921 298.653 L59.256 296.986 L63.9319 296.986 L63.9319 327.611 L71.5707 327.611 L71.5707 331.546 L51.6634 331.546 L51.6634 327.611 Z\" fill=\"#000000\" fill-rule=\"nonzero\" fill-opacity=\"1\" /><path clip-path=\"url(#clip150)\" d=\"M81.0614 296.986 L99.4178 296.986 L99.4178 300.921 L85.3438 300.921 L85.3438 309.394 Q86.3623 309.046 87.3808 308.884 Q88.3993 308.699 89.4178 308.699 Q95.2049 308.699 98.5845 311.87 Q101.964 315.042 101.964 320.458 Q101.964 326.037 98.4919 329.139 Q95.0197 332.217 88.7003 332.217 Q86.5243 332.217 84.2558 331.847 Q82.0105 331.477 79.6031 330.736 L79.6031 326.037 Q81.6864 327.171 83.9086 327.727 Q86.1308 328.282 88.6077 328.282 Q92.6123 328.282 94.9502 326.176 Q97.2882 324.069 97.2882 320.458 Q97.2882 316.847 94.9502 314.741 Q92.6123 312.634 88.6077 312.634 Q86.7327 312.634 84.8577 313.051 Q83.0058 313.468 81.0614 314.347 L81.0614 296.986 Z\" fill=\"#000000\" fill-rule=\"nonzero\" fill-opacity=\"1\" /><path clip-path=\"url(#clip150)\" d=\"M121.177 300.065 Q117.566 300.065 115.737 303.63 Q113.932 307.171 113.932 314.301 Q113.932 321.407 115.737 324.972 Q117.566 328.514 121.177 328.514 Q124.811 328.514 126.617 324.972 Q128.445 321.407 128.445 314.301 Q128.445 307.171 126.617 303.63 Q124.811 300.065 121.177 300.065 M121.177 296.361 Q126.987 296.361 130.043 300.968 Q133.121 305.551 133.121 314.301 Q133.121 323.028 130.043 327.634 Q126.987 332.217 121.177 332.217 Q115.367 332.217 112.288 327.634 Q109.233 323.028 109.233 314.301 Q109.233 305.551 112.288 300.968 Q115.367 296.361 121.177 296.361 Z\" fill=\"#000000\" fill-rule=\"nonzero\" fill-opacity=\"1\" /><polyline clip-path=\"url(#clip152)\" style=\"stroke:#009af9; stroke-linecap:round; stroke-linejoin:round; stroke-width:4; stroke-opacity:1; fill:none\" points=\"230.922,1445.72 235.042,1444.38 239.162,1440.36 243.282,1433.69 247.403,1424.39 251.523,1412.49 255.643,1398.04 259.763,1381.11 263.883,1361.74 268.003,1340.03 272.123,1316.06 276.243,1289.92 280.363,1261.72 284.483,1231.56 288.603,1199.57 292.723,1165.88 296.843,1130.6 300.963,1093.89 305.083,1055.89 309.204,1016.75 313.324,976.628 317.444,935.674 321.564,894.053 325.684,851.931 329.804,809.473 333.924,766.846 338.044,724.219 342.164,681.761 346.284,639.638 350.404,598.018 354.524,557.064 358.644,516.937 362.764,477.797 366.884,439.798 371.005,403.089 375.125,367.816 379.245,334.118 383.365,302.128 387.485,271.971 391.605,243.768 395.725,217.629 399.845,193.657 403.965,171.948 408.085,152.586 412.205,135.649 416.325,121.203 420.445,109.304 424.565,100.001 428.685,93.3294 432.805,89.3159 436.926,87.9763 441.046,89.3159 445.166,93.3294 449.286,100.001 453.406,109.304 457.526,121.203 461.646,135.649 465.766,152.586 469.886,171.948 474.006,193.657 478.126,217.629 482.246,243.768 486.366,271.971 490.486,302.128 494.606,334.118 498.727,367.816 502.847,403.089 506.967,439.798 511.087,477.797 515.207,516.937 519.327,557.064 523.447,598.018 527.567,639.638 531.687,681.761 535.807,724.219 539.927,766.846 544.047,809.473 548.167,851.931 552.287,894.053 556.407,935.674 560.528,976.628 564.648,1016.75 568.768,1055.89 572.888,1093.89 577.008,1130.6 581.128,1165.88 585.248,1199.57 589.368,1231.56 593.488,1261.72 597.608,1289.92 601.728,1316.06 605.848,1340.03 609.968,1361.74 614.088,1381.11 618.208,1398.04 622.328,1412.49 626.449,1424.39 630.569,1433.69 634.689,1440.36 638.809,1444.38 642.929,1445.72 647.049,1444.38 651.169,1440.36 655.289,1433.69 659.409,1424.39 663.529,1412.49 667.649,1398.04 671.769,1381.11 675.889,1361.74 680.009,1340.03 684.129,1316.06 688.25,1289.92 692.37,1261.72 696.49,1231.56 700.61,1199.57 704.73,1165.88 708.85,1130.6 712.97,1093.89 717.09,1055.89 721.21,1016.75 725.33,976.628 729.45,935.674 733.57,894.053 737.69,851.931 741.81,809.473 745.93,766.846 750.051,724.219 754.171,681.761 758.291,639.638 762.411,598.018 766.531,557.064 770.651,516.937 774.771,477.797 778.891,439.798 783.011,403.089 787.131,367.816 791.251,334.118 795.371,302.128 799.491,271.971 803.611,243.768 807.731,217.629 811.851,193.657 815.972,171.948 820.092,152.586 824.212,135.649 828.332,121.203 832.452,109.304 836.572,100.001 840.692,93.3294 844.812,89.3159 848.932,87.9763 853.052,89.3159 857.172,93.3294 861.292,100.001 865.412,109.304 869.532,121.203 873.652,135.649 877.773,152.586 881.893,171.948 886.013,193.657 890.133,217.629 894.253,243.768 898.373,271.971 902.493,302.128 906.613,334.118 910.733,367.816 914.853,403.089 918.973,439.798 923.093,477.797 927.213,516.937 931.333,557.064 935.453,598.018 939.574,639.638 943.694,681.761 947.814,724.219 951.934,766.846 956.054,809.473 960.174,851.931 964.294,894.053 968.414,935.674 972.534,976.628 976.654,1016.75 980.774,1055.89 984.894,1093.89 989.014,1130.6 993.134,1165.88 997.254,1199.57 1001.37,1231.56 1005.49,1261.72 1009.61,1289.92 1013.73,1316.06 1017.85,1340.03 1021.97,1361.74 1026.09,1381.11 1030.21,1398.04 1034.34,1412.49 1038.46,1424.39 1042.58,1433.69 1046.7,1440.36 1050.82,1444.38 1054.94,1445.72 1059.06,1444.38 1063.18,1440.36 1067.3,1433.69 1071.42,1424.39 1075.54,1412.49 1079.66,1398.04 1083.78,1381.11 1087.9,1361.74 1092.02,1340.03 1096.14,1316.06 1100.26,1289.92 1104.38,1261.72 1108.5,1231.56 1112.62,1199.57 1116.74,1165.88 1120.86,1130.6 1124.98,1093.89 1129.1,1055.89 1133.22,1016.75 1137.34,976.628 1141.46,935.674 1145.58,894.053 1149.7,851.931 1153.82,809.473 1157.94,766.846 1162.06,724.219 1166.18,681.761 1170.3,639.638 1174.42,598.018 1178.54,557.064 1182.66,516.937 1186.78,477.797 1190.9,439.798 1195.02,403.089 1199.14,367.816 1203.26,334.118 1207.38,302.128 1211.5,271.971 1215.62,243.768 1219.74,217.629 1223.86,193.657 1227.98,171.948 1232.1,152.586 1236.22,135.649 1240.34,121.203 1244.46,109.304 1248.58,100.001 1252.7,93.3294 1256.82,89.3159 1260.94,87.9763 1265.06,89.3159 1269.18,93.3294 1273.3,100.001 1277.42,109.304 1281.54,121.203 1285.66,135.649 1289.78,152.586 1293.9,171.948 1298.02,193.657 1302.14,217.629 1306.26,243.768 1310.38,271.971 1314.5,302.128 1318.62,334.118 1322.74,367.816 1326.86,403.089 1330.98,439.798 1335.1,477.797 1339.22,516.937 1343.34,557.064 1347.46,598.018 1351.58,639.638 1355.7,681.761 1359.82,724.219 1363.94,766.846 1368.06,809.473 1372.18,851.931 1376.3,894.053 1380.42,935.674 1384.54,976.628 1388.66,1016.75 1392.78,1055.89 1396.9,1093.89 1401.02,1130.6 1405.14,1165.88 1409.26,1199.57 1413.38,1231.56 1417.5,1261.72 1421.62,1289.92 1425.74,1316.06 1429.86,1340.03 1433.98,1361.74 1438.1,1381.11 1442.22,1398.04 1446.34,1412.49 1450.46,1424.39 1454.58,1433.69 1458.7,1440.36 1462.82,1444.38 1466.94,1445.72 1471.06,1444.38 1475.18,1440.36 1479.3,1433.69 1483.42,1424.39 1487.54,1412.49 1491.66,1398.04 1495.78,1381.11 1499.9,1361.74 1504.02,1340.03 1508.14,1316.06 1512.26,1289.92 1516.38,1261.72 1520.5,1231.56 1524.62,1199.57 1528.74,1165.88 1532.86,1130.6 1536.98,1093.89 1541.1,1055.89 1545.22,1016.75 1549.34,976.628 1553.46,935.674 1557.58,894.053 1561.7,851.931 1565.82,809.473 1569.94,766.846 1574.06,724.219 1578.18,681.761 1582.3,639.638 1586.42,598.018 1590.54,557.064 1594.66,516.937 1598.78,477.797 1602.9,439.798 1607.02,403.089 1611.14,367.816 1615.26,334.118 1619.38,302.128 1623.5,271.971 1627.62,243.768 1631.74,217.629 1635.86,193.657 1639.98,171.948 1644.1,152.586 1648.22,135.649 1652.34,121.203 1656.46,109.304 1660.58,100.001 1664.71,93.3294 1668.83,89.3159 1672.95,87.9763 1677.07,89.3159 1681.19,93.3294 1685.31,100.001 1689.43,109.304 1693.55,121.203 1697.67,135.649 1701.79,152.586 1705.91,171.948 1710.03,193.657 1714.15,217.629 1718.27,243.768 1722.39,271.971 1726.51,302.128 1730.63,334.118 1734.75,367.816 1738.87,403.089 1742.99,439.798 1747.11,477.797 1751.23,516.937 1755.35,557.064 1759.47,598.018 1763.59,639.638 1767.71,681.761 1771.83,724.219 1775.95,766.846 1780.07,809.473 1784.19,851.931 1788.31,894.053 1792.43,935.674 1796.55,976.628 1800.67,1016.75 1804.79,1055.89 1808.91,1093.89 1813.03,1130.6 1817.15,1165.88 1821.27,1199.57 1825.39,1231.56 1829.51,1261.72 1833.63,1289.92 1837.75,1316.06 1841.87,1340.03 1845.99,1361.74 1850.11,1381.11 1854.23,1398.04 1858.35,1412.49 1862.47,1424.39 1866.59,1433.69 1870.71,1440.36 1874.83,1444.38 1878.95,1445.72 1883.07,1444.38 1887.19,1440.36 1891.31,1433.69 1895.43,1424.39 1899.55,1412.49 1903.67,1398.04 1907.79,1381.11 1911.91,1361.74 1916.03,1340.03 1920.15,1316.06 1924.27,1289.92 1928.39,1261.72 1932.51,1231.56 1936.63,1199.57 1940.75,1165.88 1944.87,1130.6 1948.99,1093.89 1953.11,1055.89 1957.23,1016.75 1961.35,976.628 1965.47,935.674 1969.59,894.053 1973.71,851.931 1977.83,809.473 1981.95,766.846 1986.07,724.219 1990.19,681.761 1994.31,639.638 1998.43,598.018 2002.55,557.064 2006.67,516.937 2010.79,477.797 2014.91,439.798 2019.03,403.089 2023.15,367.816 2027.27,334.118 2031.39,302.128 2035.51,271.971 2039.63,243.768 2043.75,217.629 2047.87,193.657 2051.99,171.948 2056.11,152.586 2060.23,135.649 2064.35,121.203 2068.47,109.304 2072.59,100.001 2076.71,93.3294 2080.83,89.3159 2084.95,87.9763 2089.07,89.3159 2093.19,93.3294 2097.31,100.001 2101.43,109.304 2105.55,121.203 2109.67,135.649 2113.79,152.586 2117.91,171.948 2122.03,193.657 2126.15,217.629 2130.27,243.768 2134.39,271.971 2138.51,302.128 2142.63,334.118 2146.75,367.816 2150.87,403.089 2154.99,439.798 2159.11,477.797 2163.23,516.937 2167.35,557.064 2171.47,598.018 2175.59,639.638 2179.71,681.761 2183.83,724.219 2187.95,766.846 2192.07,809.473 2196.19,851.931 2200.31,894.053 2204.43,935.674 2208.55,976.628 2212.67,1016.75 2216.79,1055.89 2220.91,1093.89 2225.03,1130.6 2229.15,1165.88 2233.27,1199.57 2237.39,1231.56 2241.51,1261.72 2245.63,1289.92 2249.75,1316.06 2253.87,1340.03 2257.99,1361.74 2262.11,1381.11 2266.23,1398.04 2270.35,1412.49 2274.47,1424.39 2278.59,1433.69 2282.71,1440.36 2286.83,1444.38 2290.95,1445.72 \"/>\n",
       "<path clip-path=\"url(#clip150)\" d=\"M2009.17 198.898 L2279.97 198.898 L2279.97 95.2176 L2009.17 95.2176  Z\" fill=\"#ffffff\" fill-rule=\"evenodd\" fill-opacity=\"1\"/>\n",
       "<polyline clip-path=\"url(#clip150)\" style=\"stroke:#000000; stroke-linecap:round; stroke-linejoin:round; stroke-width:4; stroke-opacity:1; fill:none\" points=\"2009.17,198.898 2279.97,198.898 2279.97,95.2176 2009.17,95.2176 2009.17,198.898 \"/>\n",
       "<polyline clip-path=\"url(#clip150)\" style=\"stroke:#009af9; stroke-linecap:round; stroke-linejoin:round; stroke-width:4; stroke-opacity:1; fill:none\" points=\"2033.44,147.058 2179.01,147.058 \"/>\n",
       "<path clip-path=\"url(#clip150)\" d=\"M2217.12 166.745 Q2215.31 171.375 2213.6 172.787 Q2211.89 174.199 2209.02 174.199 L2205.61 174.199 L2205.61 170.634 L2208.11 170.634 Q2209.87 170.634 2210.84 169.8 Q2211.82 168.967 2213 165.865 L2213.76 163.921 L2203.28 138.412 L2207.79 138.412 L2215.89 158.689 L2223.99 138.412 L2228.51 138.412 L2217.12 166.745 Z\" fill=\"#000000\" fill-rule=\"nonzero\" fill-opacity=\"1\" /><path clip-path=\"url(#clip150)\" d=\"M2235.8 160.402 L2243.44 160.402 L2243.44 134.037 L2235.13 135.703 L2235.13 131.444 L2243.39 129.778 L2248.07 129.778 L2248.07 160.402 L2255.71 160.402 L2255.71 164.338 L2235.8 164.338 L2235.8 160.402 Z\" fill=\"#000000\" fill-rule=\"nonzero\" fill-opacity=\"1\" /></svg>\n"
      ],
      "text/html": [
       "<?xml version=\"1.0\" encoding=\"utf-8\"?>\n",
       "<svg xmlns=\"http://www.w3.org/2000/svg\" xmlns:xlink=\"http://www.w3.org/1999/xlink\" width=\"600\" height=\"400\" viewBox=\"0 0 2400 1600\">\n",
       "<defs>\n",
       "  <clipPath id=\"clip200\">\n",
       "    <rect x=\"0\" y=\"0\" width=\"2400\" height=\"1600\"/>\n",
       "  </clipPath>\n",
       "</defs>\n",
       "<path clip-path=\"url(#clip200)\" d=\"M0 1600 L2400 1600 L2400 0 L0 0  Z\" fill=\"#ffffff\" fill-rule=\"evenodd\" fill-opacity=\"1\"/>\n",
       "<defs>\n",
       "  <clipPath id=\"clip201\">\n",
       "    <rect x=\"480\" y=\"0\" width=\"1681\" height=\"1600\"/>\n",
       "  </clipPath>\n",
       "</defs>\n",
       "<path clip-path=\"url(#clip200)\" d=\"M169.121 1486.45 L2352.76 1486.45 L2352.76 47.2441 L169.121 47.2441  Z\" fill=\"#ffffff\" fill-rule=\"evenodd\" fill-opacity=\"1\"/>\n",
       "<defs>\n",
       "  <clipPath id=\"clip202\">\n",
       "    <rect x=\"169\" y=\"47\" width=\"2185\" height=\"1440\"/>\n",
       "  </clipPath>\n",
       "</defs>\n",
       "<polyline clip-path=\"url(#clip202)\" style=\"stroke:#000000; stroke-linecap:round; stroke-linejoin:round; stroke-width:2; stroke-opacity:0.1; fill:none\" points=\"230.922,1486.45 230.922,47.2441 \"/>\n",
       "<polyline clip-path=\"url(#clip202)\" style=\"stroke:#000000; stroke-linecap:round; stroke-linejoin:round; stroke-width:2; stroke-opacity:0.1; fill:none\" points=\"642.929,1486.45 642.929,47.2441 \"/>\n",
       "<polyline clip-path=\"url(#clip202)\" style=\"stroke:#000000; stroke-linecap:round; stroke-linejoin:round; stroke-width:2; stroke-opacity:0.1; fill:none\" points=\"1054.94,1486.45 1054.94,47.2441 \"/>\n",
       "<polyline clip-path=\"url(#clip202)\" style=\"stroke:#000000; stroke-linecap:round; stroke-linejoin:round; stroke-width:2; stroke-opacity:0.1; fill:none\" points=\"1466.94,1486.45 1466.94,47.2441 \"/>\n",
       "<polyline clip-path=\"url(#clip202)\" style=\"stroke:#000000; stroke-linecap:round; stroke-linejoin:round; stroke-width:2; stroke-opacity:0.1; fill:none\" points=\"1878.95,1486.45 1878.95,47.2441 \"/>\n",
       "<polyline clip-path=\"url(#clip202)\" style=\"stroke:#000000; stroke-linecap:round; stroke-linejoin:round; stroke-width:2; stroke-opacity:0.1; fill:none\" points=\"2290.95,1486.45 2290.95,47.2441 \"/>\n",
       "<polyline clip-path=\"url(#clip200)\" style=\"stroke:#000000; stroke-linecap:round; stroke-linejoin:round; stroke-width:4; stroke-opacity:1; fill:none\" points=\"169.121,1486.45 2352.76,1486.45 \"/>\n",
       "<polyline clip-path=\"url(#clip200)\" style=\"stroke:#000000; stroke-linecap:round; stroke-linejoin:round; stroke-width:4; stroke-opacity:1; fill:none\" points=\"230.922,1486.45 230.922,1467.55 \"/>\n",
       "<polyline clip-path=\"url(#clip200)\" style=\"stroke:#000000; stroke-linecap:round; stroke-linejoin:round; stroke-width:4; stroke-opacity:1; fill:none\" points=\"642.929,1486.45 642.929,1467.55 \"/>\n",
       "<polyline clip-path=\"url(#clip200)\" style=\"stroke:#000000; stroke-linecap:round; stroke-linejoin:round; stroke-width:4; stroke-opacity:1; fill:none\" points=\"1054.94,1486.45 1054.94,1467.55 \"/>\n",
       "<polyline clip-path=\"url(#clip200)\" style=\"stroke:#000000; stroke-linecap:round; stroke-linejoin:round; stroke-width:4; stroke-opacity:1; fill:none\" points=\"1466.94,1486.45 1466.94,1467.55 \"/>\n",
       "<polyline clip-path=\"url(#clip200)\" style=\"stroke:#000000; stroke-linecap:round; stroke-linejoin:round; stroke-width:4; stroke-opacity:1; fill:none\" points=\"1878.95,1486.45 1878.95,1467.55 \"/>\n",
       "<polyline clip-path=\"url(#clip200)\" style=\"stroke:#000000; stroke-linecap:round; stroke-linejoin:round; stroke-width:4; stroke-opacity:1; fill:none\" points=\"2290.95,1486.45 2290.95,1467.55 \"/>\n",
       "<path clip-path=\"url(#clip200)\" d=\"M230.922 1517.37 Q227.311 1517.37 225.483 1520.93 Q223.677 1524.47 223.677 1531.6 Q223.677 1538.71 225.483 1542.27 Q227.311 1545.82 230.922 1545.82 Q234.557 1545.82 236.362 1542.27 Q238.191 1538.71 238.191 1531.6 Q238.191 1524.47 236.362 1520.93 Q234.557 1517.37 230.922 1517.37 M230.922 1513.66 Q236.732 1513.66 239.788 1518.27 Q242.867 1522.85 242.867 1531.6 Q242.867 1540.33 239.788 1544.94 Q236.732 1549.52 230.922 1549.52 Q225.112 1549.52 222.033 1544.94 Q218.978 1540.33 218.978 1531.6 Q218.978 1522.85 222.033 1518.27 Q225.112 1513.66 230.922 1513.66 Z\" fill=\"#000000\" fill-rule=\"nonzero\" fill-opacity=\"1\" /><path clip-path=\"url(#clip200)\" d=\"M633.311 1544.91 L640.95 1544.91 L640.95 1518.55 L632.64 1520.21 L632.64 1515.95 L640.903 1514.29 L645.579 1514.29 L645.579 1544.91 L653.218 1544.91 L653.218 1548.85 L633.311 1548.85 L633.311 1544.91 Z\" fill=\"#000000\" fill-rule=\"nonzero\" fill-opacity=\"1\" /><path clip-path=\"url(#clip200)\" d=\"M1049.59 1544.91 L1065.91 1544.91 L1065.91 1548.85 L1043.96 1548.85 L1043.96 1544.91 Q1046.63 1542.16 1051.21 1537.53 Q1055.81 1532.88 1057 1531.53 Q1059.24 1529.01 1060.12 1527.27 Q1061.02 1525.51 1061.02 1523.82 Q1061.02 1521.07 1059.08 1519.33 Q1057.16 1517.6 1054.06 1517.6 Q1051.86 1517.6 1049.4 1518.36 Q1046.97 1519.13 1044.19 1520.68 L1044.19 1515.95 Q1047.02 1514.82 1049.47 1514.24 Q1051.93 1513.66 1053.96 1513.66 Q1059.33 1513.66 1062.53 1516.35 Q1065.72 1519.03 1065.72 1523.52 Q1065.72 1525.65 1064.91 1527.57 Q1064.13 1529.47 1062.02 1532.07 Q1061.44 1532.74 1058.34 1535.95 Q1055.24 1539.15 1049.59 1544.91 Z\" fill=\"#000000\" fill-rule=\"nonzero\" fill-opacity=\"1\" /><path clip-path=\"url(#clip200)\" d=\"M1471.19 1530.21 Q1474.55 1530.93 1476.42 1533.2 Q1478.32 1535.47 1478.32 1538.8 Q1478.32 1543.92 1474.8 1546.72 Q1471.28 1549.52 1464.8 1549.52 Q1462.62 1549.52 1460.31 1549.08 Q1458.02 1548.66 1455.56 1547.81 L1455.56 1543.29 Q1457.51 1544.43 1459.82 1545.01 Q1462.14 1545.58 1464.66 1545.58 Q1469.06 1545.58 1471.35 1543.85 Q1473.67 1542.11 1473.67 1538.8 Q1473.67 1535.75 1471.51 1534.03 Q1469.38 1532.3 1465.56 1532.3 L1461.54 1532.3 L1461.54 1528.45 L1465.75 1528.45 Q1469.2 1528.45 1471.03 1527.09 Q1472.86 1525.7 1472.86 1523.11 Q1472.86 1520.45 1470.96 1519.03 Q1469.08 1517.6 1465.56 1517.6 Q1463.64 1517.6 1461.44 1518.01 Q1459.25 1518.43 1456.61 1519.31 L1456.61 1515.14 Q1459.27 1514.4 1461.58 1514.03 Q1463.92 1513.66 1465.98 1513.66 Q1471.31 1513.66 1474.41 1516.09 Q1477.51 1518.5 1477.51 1522.62 Q1477.51 1525.49 1475.87 1527.48 Q1474.22 1529.45 1471.19 1530.21 Z\" fill=\"#000000\" fill-rule=\"nonzero\" fill-opacity=\"1\" /><path clip-path=\"url(#clip200)\" d=\"M1881.96 1518.36 L1870.15 1536.81 L1881.96 1536.81 L1881.96 1518.36 M1880.73 1514.29 L1886.61 1514.29 L1886.61 1536.81 L1891.54 1536.81 L1891.54 1540.7 L1886.61 1540.7 L1886.61 1548.85 L1881.96 1548.85 L1881.96 1540.7 L1866.36 1540.7 L1866.36 1536.19 L1880.73 1514.29 Z\" fill=\"#000000\" fill-rule=\"nonzero\" fill-opacity=\"1\" /><path clip-path=\"url(#clip200)\" d=\"M2281.23 1514.29 L2299.59 1514.29 L2299.59 1518.22 L2285.52 1518.22 L2285.52 1526.7 Q2286.53 1526.35 2287.55 1526.19 Q2288.57 1526 2289.59 1526 Q2295.38 1526 2298.76 1529.17 Q2302.14 1532.34 2302.14 1537.76 Q2302.14 1543.34 2298.66 1546.44 Q2295.19 1549.52 2288.87 1549.52 Q2286.7 1549.52 2284.43 1549.15 Q2282.18 1548.78 2279.77 1548.04 L2279.77 1543.34 Q2281.86 1544.47 2284.08 1545.03 Q2286.3 1545.58 2288.78 1545.58 Q2292.78 1545.58 2295.12 1543.48 Q2297.46 1541.37 2297.46 1537.76 Q2297.46 1534.15 2295.12 1532.04 Q2292.78 1529.94 2288.78 1529.94 Q2286.9 1529.94 2285.03 1530.35 Q2283.18 1530.77 2281.23 1531.65 L2281.23 1514.29 Z\" fill=\"#000000\" fill-rule=\"nonzero\" fill-opacity=\"1\" /><polyline clip-path=\"url(#clip202)\" style=\"stroke:#000000; stroke-linecap:round; stroke-linejoin:round; stroke-width:2; stroke-opacity:0.1; fill:none\" points=\"169.121,1445.72 2352.76,1445.72 \"/>\n",
       "<polyline clip-path=\"url(#clip202)\" style=\"stroke:#000000; stroke-linecap:round; stroke-linejoin:round; stroke-width:2; stroke-opacity:0.1; fill:none\" points=\"169.121,1068.57 2352.76,1068.57 \"/>\n",
       "<polyline clip-path=\"url(#clip202)\" style=\"stroke:#000000; stroke-linecap:round; stroke-linejoin:round; stroke-width:2; stroke-opacity:0.1; fill:none\" points=\"169.121,691.416 2352.76,691.416 \"/>\n",
       "<polyline clip-path=\"url(#clip202)\" style=\"stroke:#000000; stroke-linecap:round; stroke-linejoin:round; stroke-width:2; stroke-opacity:0.1; fill:none\" points=\"169.121,314.266 2352.76,314.266 \"/>\n",
       "<polyline clip-path=\"url(#clip200)\" style=\"stroke:#000000; stroke-linecap:round; stroke-linejoin:round; stroke-width:4; stroke-opacity:1; fill:none\" points=\"169.121,1486.45 169.121,47.2441 \"/>\n",
       "<polyline clip-path=\"url(#clip200)\" style=\"stroke:#000000; stroke-linecap:round; stroke-linejoin:round; stroke-width:4; stroke-opacity:1; fill:none\" points=\"169.121,1445.72 188.019,1445.72 \"/>\n",
       "<polyline clip-path=\"url(#clip200)\" style=\"stroke:#000000; stroke-linecap:round; stroke-linejoin:round; stroke-width:4; stroke-opacity:1; fill:none\" points=\"169.121,1068.57 188.019,1068.57 \"/>\n",
       "<polyline clip-path=\"url(#clip200)\" style=\"stroke:#000000; stroke-linecap:round; stroke-linejoin:round; stroke-width:4; stroke-opacity:1; fill:none\" points=\"169.121,691.416 188.019,691.416 \"/>\n",
       "<polyline clip-path=\"url(#clip200)\" style=\"stroke:#000000; stroke-linecap:round; stroke-linejoin:round; stroke-width:4; stroke-opacity:1; fill:none\" points=\"169.121,314.266 188.019,314.266 \"/>\n",
       "<path clip-path=\"url(#clip200)\" d=\"M121.177 1431.51 Q117.566 1431.51 115.737 1435.08 Q113.932 1438.62 113.932 1445.75 Q113.932 1452.86 115.737 1456.42 Q117.566 1459.96 121.177 1459.96 Q124.811 1459.96 126.617 1456.42 Q128.445 1452.86 128.445 1445.75 Q128.445 1438.62 126.617 1435.08 Q124.811 1431.51 121.177 1431.51 M121.177 1427.81 Q126.987 1427.81 130.043 1432.42 Q133.121 1437 133.121 1445.75 Q133.121 1454.48 130.043 1459.08 Q126.987 1463.67 121.177 1463.67 Q115.367 1463.67 112.288 1459.08 Q109.233 1454.48 109.233 1445.75 Q109.233 1437 112.288 1432.42 Q115.367 1427.81 121.177 1427.81 Z\" fill=\"#000000\" fill-rule=\"nonzero\" fill-opacity=\"1\" /><path clip-path=\"url(#clip200)\" d=\"M81.0614 1051.29 L99.4178 1051.29 L99.4178 1055.22 L85.3438 1055.22 L85.3438 1063.69 Q86.3623 1063.35 87.3808 1063.18 Q88.3993 1063 89.4178 1063 Q95.2049 1063 98.5845 1066.17 Q101.964 1069.34 101.964 1074.76 Q101.964 1080.34 98.4919 1083.44 Q95.0197 1086.52 88.7003 1086.52 Q86.5243 1086.52 84.2558 1086.15 Q82.0105 1085.78 79.6031 1085.04 L79.6031 1080.34 Q81.6864 1081.47 83.9086 1082.03 Q86.1308 1082.58 88.6077 1082.58 Q92.6123 1082.58 94.9502 1080.48 Q97.2882 1078.37 97.2882 1074.76 Q97.2882 1071.15 94.9502 1069.04 Q92.6123 1066.93 88.6077 1066.93 Q86.7327 1066.93 84.8577 1067.35 Q83.0058 1067.77 81.0614 1068.65 L81.0614 1051.29 Z\" fill=\"#000000\" fill-rule=\"nonzero\" fill-opacity=\"1\" /><path clip-path=\"url(#clip200)\" d=\"M121.177 1054.36 Q117.566 1054.36 115.737 1057.93 Q113.932 1061.47 113.932 1068.6 Q113.932 1075.71 115.737 1079.27 Q117.566 1082.81 121.177 1082.81 Q124.811 1082.81 126.617 1079.27 Q128.445 1075.71 128.445 1068.6 Q128.445 1061.47 126.617 1057.93 Q124.811 1054.36 121.177 1054.36 M121.177 1050.66 Q126.987 1050.66 130.043 1055.27 Q133.121 1059.85 133.121 1068.6 Q133.121 1077.33 130.043 1081.93 Q126.987 1086.52 121.177 1086.52 Q115.367 1086.52 112.288 1081.93 Q109.233 1077.33 109.233 1068.6 Q109.233 1059.85 112.288 1055.27 Q115.367 1050.66 121.177 1050.66 Z\" fill=\"#000000\" fill-rule=\"nonzero\" fill-opacity=\"1\" /><path clip-path=\"url(#clip200)\" d=\"M51.6634 704.761 L59.3023 704.761 L59.3023 678.395 L50.9921 680.062 L50.9921 675.803 L59.256 674.136 L63.9319 674.136 L63.9319 704.761 L71.5707 704.761 L71.5707 708.696 L51.6634 708.696 L51.6634 704.761 Z\" fill=\"#000000\" fill-rule=\"nonzero\" fill-opacity=\"1\" /><path clip-path=\"url(#clip200)\" d=\"M91.0151 677.215 Q87.404 677.215 85.5753 680.779 Q83.7697 684.321 83.7697 691.451 Q83.7697 698.557 85.5753 702.122 Q87.404 705.664 91.0151 705.664 Q94.6493 705.664 96.4548 702.122 Q98.2835 698.557 98.2835 691.451 Q98.2835 684.321 96.4548 680.779 Q94.6493 677.215 91.0151 677.215 M91.0151 673.511 Q96.8252 673.511 99.8808 678.117 Q102.959 682.701 102.959 691.451 Q102.959 700.178 99.8808 704.784 Q96.8252 709.367 91.0151 709.367 Q85.2049 709.367 82.1262 704.784 Q79.0707 700.178 79.0707 691.451 Q79.0707 682.701 82.1262 678.117 Q85.2049 673.511 91.0151 673.511 Z\" fill=\"#000000\" fill-rule=\"nonzero\" fill-opacity=\"1\" /><path clip-path=\"url(#clip200)\" d=\"M121.177 677.215 Q117.566 677.215 115.737 680.779 Q113.932 684.321 113.932 691.451 Q113.932 698.557 115.737 702.122 Q117.566 705.664 121.177 705.664 Q124.811 705.664 126.617 702.122 Q128.445 698.557 128.445 691.451 Q128.445 684.321 126.617 680.779 Q124.811 677.215 121.177 677.215 M121.177 673.511 Q126.987 673.511 130.043 678.117 Q133.121 682.701 133.121 691.451 Q133.121 700.178 130.043 704.784 Q126.987 709.367 121.177 709.367 Q115.367 709.367 112.288 704.784 Q109.233 700.178 109.233 691.451 Q109.233 682.701 112.288 678.117 Q115.367 673.511 121.177 673.511 Z\" fill=\"#000000\" fill-rule=\"nonzero\" fill-opacity=\"1\" /><path clip-path=\"url(#clip200)\" d=\"M51.6634 327.611 L59.3023 327.611 L59.3023 301.245 L50.9921 302.912 L50.9921 298.653 L59.256 296.986 L63.9319 296.986 L63.9319 327.611 L71.5707 327.611 L71.5707 331.546 L51.6634 331.546 L51.6634 327.611 Z\" fill=\"#000000\" fill-rule=\"nonzero\" fill-opacity=\"1\" /><path clip-path=\"url(#clip200)\" d=\"M81.0614 296.986 L99.4178 296.986 L99.4178 300.921 L85.3438 300.921 L85.3438 309.394 Q86.3623 309.046 87.3808 308.884 Q88.3993 308.699 89.4178 308.699 Q95.2049 308.699 98.5845 311.87 Q101.964 315.042 101.964 320.458 Q101.964 326.037 98.4919 329.139 Q95.0197 332.217 88.7003 332.217 Q86.5243 332.217 84.2558 331.847 Q82.0105 331.477 79.6031 330.736 L79.6031 326.037 Q81.6864 327.171 83.9086 327.727 Q86.1308 328.282 88.6077 328.282 Q92.6123 328.282 94.9502 326.176 Q97.2882 324.069 97.2882 320.458 Q97.2882 316.847 94.9502 314.741 Q92.6123 312.634 88.6077 312.634 Q86.7327 312.634 84.8577 313.051 Q83.0058 313.468 81.0614 314.347 L81.0614 296.986 Z\" fill=\"#000000\" fill-rule=\"nonzero\" fill-opacity=\"1\" /><path clip-path=\"url(#clip200)\" d=\"M121.177 300.065 Q117.566 300.065 115.737 303.63 Q113.932 307.171 113.932 314.301 Q113.932 321.407 115.737 324.972 Q117.566 328.514 121.177 328.514 Q124.811 328.514 126.617 324.972 Q128.445 321.407 128.445 314.301 Q128.445 307.171 126.617 303.63 Q124.811 300.065 121.177 300.065 M121.177 296.361 Q126.987 296.361 130.043 300.968 Q133.121 305.551 133.121 314.301 Q133.121 323.028 130.043 327.634 Q126.987 332.217 121.177 332.217 Q115.367 332.217 112.288 327.634 Q109.233 323.028 109.233 314.301 Q109.233 305.551 112.288 300.968 Q115.367 296.361 121.177 296.361 Z\" fill=\"#000000\" fill-rule=\"nonzero\" fill-opacity=\"1\" /><polyline clip-path=\"url(#clip202)\" style=\"stroke:#009af9; stroke-linecap:round; stroke-linejoin:round; stroke-width:4; stroke-opacity:1; fill:none\" points=\"230.922,1445.72 235.042,1444.38 239.162,1440.36 243.282,1433.69 247.403,1424.39 251.523,1412.49 255.643,1398.04 259.763,1381.11 263.883,1361.74 268.003,1340.03 272.123,1316.06 276.243,1289.92 280.363,1261.72 284.483,1231.56 288.603,1199.57 292.723,1165.88 296.843,1130.6 300.963,1093.89 305.083,1055.89 309.204,1016.75 313.324,976.628 317.444,935.674 321.564,894.053 325.684,851.931 329.804,809.473 333.924,766.846 338.044,724.219 342.164,681.761 346.284,639.638 350.404,598.018 354.524,557.064 358.644,516.937 362.764,477.797 366.884,439.798 371.005,403.089 375.125,367.816 379.245,334.118 383.365,302.128 387.485,271.971 391.605,243.768 395.725,217.629 399.845,193.657 403.965,171.948 408.085,152.586 412.205,135.649 416.325,121.203 420.445,109.304 424.565,100.001 428.685,93.3294 432.805,89.3159 436.926,87.9763 441.046,89.3159 445.166,93.3294 449.286,100.001 453.406,109.304 457.526,121.203 461.646,135.649 465.766,152.586 469.886,171.948 474.006,193.657 478.126,217.629 482.246,243.768 486.366,271.971 490.486,302.128 494.606,334.118 498.727,367.816 502.847,403.089 506.967,439.798 511.087,477.797 515.207,516.937 519.327,557.064 523.447,598.018 527.567,639.638 531.687,681.761 535.807,724.219 539.927,766.846 544.047,809.473 548.167,851.931 552.287,894.053 556.407,935.674 560.528,976.628 564.648,1016.75 568.768,1055.89 572.888,1093.89 577.008,1130.6 581.128,1165.88 585.248,1199.57 589.368,1231.56 593.488,1261.72 597.608,1289.92 601.728,1316.06 605.848,1340.03 609.968,1361.74 614.088,1381.11 618.208,1398.04 622.328,1412.49 626.449,1424.39 630.569,1433.69 634.689,1440.36 638.809,1444.38 642.929,1445.72 647.049,1444.38 651.169,1440.36 655.289,1433.69 659.409,1424.39 663.529,1412.49 667.649,1398.04 671.769,1381.11 675.889,1361.74 680.009,1340.03 684.129,1316.06 688.25,1289.92 692.37,1261.72 696.49,1231.56 700.61,1199.57 704.73,1165.88 708.85,1130.6 712.97,1093.89 717.09,1055.89 721.21,1016.75 725.33,976.628 729.45,935.674 733.57,894.053 737.69,851.931 741.81,809.473 745.93,766.846 750.051,724.219 754.171,681.761 758.291,639.638 762.411,598.018 766.531,557.064 770.651,516.937 774.771,477.797 778.891,439.798 783.011,403.089 787.131,367.816 791.251,334.118 795.371,302.128 799.491,271.971 803.611,243.768 807.731,217.629 811.851,193.657 815.972,171.948 820.092,152.586 824.212,135.649 828.332,121.203 832.452,109.304 836.572,100.001 840.692,93.3294 844.812,89.3159 848.932,87.9763 853.052,89.3159 857.172,93.3294 861.292,100.001 865.412,109.304 869.532,121.203 873.652,135.649 877.773,152.586 881.893,171.948 886.013,193.657 890.133,217.629 894.253,243.768 898.373,271.971 902.493,302.128 906.613,334.118 910.733,367.816 914.853,403.089 918.973,439.798 923.093,477.797 927.213,516.937 931.333,557.064 935.453,598.018 939.574,639.638 943.694,681.761 947.814,724.219 951.934,766.846 956.054,809.473 960.174,851.931 964.294,894.053 968.414,935.674 972.534,976.628 976.654,1016.75 980.774,1055.89 984.894,1093.89 989.014,1130.6 993.134,1165.88 997.254,1199.57 1001.37,1231.56 1005.49,1261.72 1009.61,1289.92 1013.73,1316.06 1017.85,1340.03 1021.97,1361.74 1026.09,1381.11 1030.21,1398.04 1034.34,1412.49 1038.46,1424.39 1042.58,1433.69 1046.7,1440.36 1050.82,1444.38 1054.94,1445.72 1059.06,1444.38 1063.18,1440.36 1067.3,1433.69 1071.42,1424.39 1075.54,1412.49 1079.66,1398.04 1083.78,1381.11 1087.9,1361.74 1092.02,1340.03 1096.14,1316.06 1100.26,1289.92 1104.38,1261.72 1108.5,1231.56 1112.62,1199.57 1116.74,1165.88 1120.86,1130.6 1124.98,1093.89 1129.1,1055.89 1133.22,1016.75 1137.34,976.628 1141.46,935.674 1145.58,894.053 1149.7,851.931 1153.82,809.473 1157.94,766.846 1162.06,724.219 1166.18,681.761 1170.3,639.638 1174.42,598.018 1178.54,557.064 1182.66,516.937 1186.78,477.797 1190.9,439.798 1195.02,403.089 1199.14,367.816 1203.26,334.118 1207.38,302.128 1211.5,271.971 1215.62,243.768 1219.74,217.629 1223.86,193.657 1227.98,171.948 1232.1,152.586 1236.22,135.649 1240.34,121.203 1244.46,109.304 1248.58,100.001 1252.7,93.3294 1256.82,89.3159 1260.94,87.9763 1265.06,89.3159 1269.18,93.3294 1273.3,100.001 1277.42,109.304 1281.54,121.203 1285.66,135.649 1289.78,152.586 1293.9,171.948 1298.02,193.657 1302.14,217.629 1306.26,243.768 1310.38,271.971 1314.5,302.128 1318.62,334.118 1322.74,367.816 1326.86,403.089 1330.98,439.798 1335.1,477.797 1339.22,516.937 1343.34,557.064 1347.46,598.018 1351.58,639.638 1355.7,681.761 1359.82,724.219 1363.94,766.846 1368.06,809.473 1372.18,851.931 1376.3,894.053 1380.42,935.674 1384.54,976.628 1388.66,1016.75 1392.78,1055.89 1396.9,1093.89 1401.02,1130.6 1405.14,1165.88 1409.26,1199.57 1413.38,1231.56 1417.5,1261.72 1421.62,1289.92 1425.74,1316.06 1429.86,1340.03 1433.98,1361.74 1438.1,1381.11 1442.22,1398.04 1446.34,1412.49 1450.46,1424.39 1454.58,1433.69 1458.7,1440.36 1462.82,1444.38 1466.94,1445.72 1471.06,1444.38 1475.18,1440.36 1479.3,1433.69 1483.42,1424.39 1487.54,1412.49 1491.66,1398.04 1495.78,1381.11 1499.9,1361.74 1504.02,1340.03 1508.14,1316.06 1512.26,1289.92 1516.38,1261.72 1520.5,1231.56 1524.62,1199.57 1528.74,1165.88 1532.86,1130.6 1536.98,1093.89 1541.1,1055.89 1545.22,1016.75 1549.34,976.628 1553.46,935.674 1557.58,894.053 1561.7,851.931 1565.82,809.473 1569.94,766.846 1574.06,724.219 1578.18,681.761 1582.3,639.638 1586.42,598.018 1590.54,557.064 1594.66,516.937 1598.78,477.797 1602.9,439.798 1607.02,403.089 1611.14,367.816 1615.26,334.118 1619.38,302.128 1623.5,271.971 1627.62,243.768 1631.74,217.629 1635.86,193.657 1639.98,171.948 1644.1,152.586 1648.22,135.649 1652.34,121.203 1656.46,109.304 1660.58,100.001 1664.71,93.3294 1668.83,89.3159 1672.95,87.9763 1677.07,89.3159 1681.19,93.3294 1685.31,100.001 1689.43,109.304 1693.55,121.203 1697.67,135.649 1701.79,152.586 1705.91,171.948 1710.03,193.657 1714.15,217.629 1718.27,243.768 1722.39,271.971 1726.51,302.128 1730.63,334.118 1734.75,367.816 1738.87,403.089 1742.99,439.798 1747.11,477.797 1751.23,516.937 1755.35,557.064 1759.47,598.018 1763.59,639.638 1767.71,681.761 1771.83,724.219 1775.95,766.846 1780.07,809.473 1784.19,851.931 1788.31,894.053 1792.43,935.674 1796.55,976.628 1800.67,1016.75 1804.79,1055.89 1808.91,1093.89 1813.03,1130.6 1817.15,1165.88 1821.27,1199.57 1825.39,1231.56 1829.51,1261.72 1833.63,1289.92 1837.75,1316.06 1841.87,1340.03 1845.99,1361.74 1850.11,1381.11 1854.23,1398.04 1858.35,1412.49 1862.47,1424.39 1866.59,1433.69 1870.71,1440.36 1874.83,1444.38 1878.95,1445.72 1883.07,1444.38 1887.19,1440.36 1891.31,1433.69 1895.43,1424.39 1899.55,1412.49 1903.67,1398.04 1907.79,1381.11 1911.91,1361.74 1916.03,1340.03 1920.15,1316.06 1924.27,1289.92 1928.39,1261.72 1932.51,1231.56 1936.63,1199.57 1940.75,1165.88 1944.87,1130.6 1948.99,1093.89 1953.11,1055.89 1957.23,1016.75 1961.35,976.628 1965.47,935.674 1969.59,894.053 1973.71,851.931 1977.83,809.473 1981.95,766.846 1986.07,724.219 1990.19,681.761 1994.31,639.638 1998.43,598.018 2002.55,557.064 2006.67,516.937 2010.79,477.797 2014.91,439.798 2019.03,403.089 2023.15,367.816 2027.27,334.118 2031.39,302.128 2035.51,271.971 2039.63,243.768 2043.75,217.629 2047.87,193.657 2051.99,171.948 2056.11,152.586 2060.23,135.649 2064.35,121.203 2068.47,109.304 2072.59,100.001 2076.71,93.3294 2080.83,89.3159 2084.95,87.9763 2089.07,89.3159 2093.19,93.3294 2097.31,100.001 2101.43,109.304 2105.55,121.203 2109.67,135.649 2113.79,152.586 2117.91,171.948 2122.03,193.657 2126.15,217.629 2130.27,243.768 2134.39,271.971 2138.51,302.128 2142.63,334.118 2146.75,367.816 2150.87,403.089 2154.99,439.798 2159.11,477.797 2163.23,516.937 2167.35,557.064 2171.47,598.018 2175.59,639.638 2179.71,681.761 2183.83,724.219 2187.95,766.846 2192.07,809.473 2196.19,851.931 2200.31,894.053 2204.43,935.674 2208.55,976.628 2212.67,1016.75 2216.79,1055.89 2220.91,1093.89 2225.03,1130.6 2229.15,1165.88 2233.27,1199.57 2237.39,1231.56 2241.51,1261.72 2245.63,1289.92 2249.75,1316.06 2253.87,1340.03 2257.99,1361.74 2262.11,1381.11 2266.23,1398.04 2270.35,1412.49 2274.47,1424.39 2278.59,1433.69 2282.71,1440.36 2286.83,1444.38 2290.95,1445.72 \"/>\n",
       "<path clip-path=\"url(#clip200)\" d=\"M2009.17 198.898 L2279.97 198.898 L2279.97 95.2176 L2009.17 95.2176  Z\" fill=\"#ffffff\" fill-rule=\"evenodd\" fill-opacity=\"1\"/>\n",
       "<polyline clip-path=\"url(#clip200)\" style=\"stroke:#000000; stroke-linecap:round; stroke-linejoin:round; stroke-width:4; stroke-opacity:1; fill:none\" points=\"2009.17,198.898 2279.97,198.898 2279.97,95.2176 2009.17,95.2176 2009.17,198.898 \"/>\n",
       "<polyline clip-path=\"url(#clip200)\" style=\"stroke:#009af9; stroke-linecap:round; stroke-linejoin:round; stroke-width:4; stroke-opacity:1; fill:none\" points=\"2033.44,147.058 2179.01,147.058 \"/>\n",
       "<path clip-path=\"url(#clip200)\" d=\"M2217.12 166.745 Q2215.31 171.375 2213.6 172.787 Q2211.89 174.199 2209.02 174.199 L2205.61 174.199 L2205.61 170.634 L2208.11 170.634 Q2209.87 170.634 2210.84 169.8 Q2211.82 168.967 2213 165.865 L2213.76 163.921 L2203.28 138.412 L2207.79 138.412 L2215.89 158.689 L2223.99 138.412 L2228.51 138.412 L2217.12 166.745 Z\" fill=\"#000000\" fill-rule=\"nonzero\" fill-opacity=\"1\" /><path clip-path=\"url(#clip200)\" d=\"M2235.8 160.402 L2243.44 160.402 L2243.44 134.037 L2235.13 135.703 L2235.13 131.444 L2243.39 129.778 L2248.07 129.778 L2248.07 160.402 L2255.71 160.402 L2255.71 164.338 L2235.8 164.338 L2235.8 160.402 Z\" fill=\"#000000\" fill-rule=\"nonzero\" fill-opacity=\"1\" /></svg>\n"
      ]
     },
     "execution_count": 43,
     "metadata": {},
     "output_type": "execute_result"
    }
   ],
   "source": [
    "t1 = 0:0.01:5\n",
    "i = []\n",
    "for t in t1\n",
    "    append!(i,flow(t))\n",
    "end\n",
    "plot(t1,i)"
   ]
  },
  {
   "cell_type": "markdown",
   "metadata": {},
   "source": [
    "# 2 element Windkessel\n",
    "<img src=\"electric_circuit_diagrams/wk_2.jpg\"  width=\"450\" height=\"250\">"
   ]
  },
  {
   "cell_type": "code",
   "execution_count": 44,
   "metadata": {},
   "outputs": [
    {
     "data": {
      "text/plain": [
       "ModelingToolkit.Model{typeof(__WK2model__), Dict{Symbol, Any}}(__WK2model__, Dict{Symbol, Any}(:components => [[:resistor, :Resistor], [:capacitor, :Capacitor], [:source, :DrivenCurrent], [:ground, :Ground]], :kwargs => Dict{Symbol, Any}(:resistor__R => nothing, :capacitor__C => nothing, :source__Q => nothing), :independent_variable => t, :equations => [\"connect(source.out, resistor.in, capacitor.in)\", \"connect(resistor.out, source.in, capacitor.out, ground.g)\"]), false)"
      ]
     },
     "execution_count": 44,
     "metadata": {},
     "output_type": "execute_result"
    }
   ],
   "source": [
    "@mtkmodel WK2model begin\n",
    "    @components begin\n",
    "        resistor = Resistor(R = R_2)\n",
    "        capacitor = Capacitor(C = C)\n",
    "        source = DrivenCurrent(Q = 1.0)\n",
    "        ground = Ground()\n",
    "    end\n",
    "    @equations begin\n",
    "        connect(source.out, resistor.in, capacitor.in)\n",
    "        connect(resistor.out, source.in, capacitor.out, ground.g)\n",
    "    end\n",
    "end"
   ]
  },
  {
   "cell_type": "code",
   "execution_count": 53,
   "metadata": {},
   "outputs": [
    {
     "ename": "LoadError",
     "evalue": "LoadError: UndefVarError: `@mtkbuild` not defined\nin expression starting at In[53]:1",
     "output_type": "error",
     "traceback": [
      "LoadError: UndefVarError: `@mtkbuild` not defined\nin expression starting at In[53]:1",
      ""
     ]
    }
   ],
   "source": [
    "@mtkbuild wk2model = WK2model()\n",
    "u0 = [\n",
    "    wk2model.capacitor.Δp => -78\n",
    "]\n",
    "prob = ODEProblem(wk2model, u0, (0, 5.0))\n",
    "sol_2_elem = solve(prob, RK4(), reltol=1e-6)\n",
    "plot(sol_2_elem, idxs = wk2model.source.Δp)"
   ]
  },
  {
   "cell_type": "code",
   "execution_count": 46,
   "metadata": {
    "tags": []
   },
   "outputs": [
    {
     "ename": "LoadError",
     "evalue": "UndefVarError: `wk2model` not defined",
     "output_type": "error",
     "traceback": [
      "UndefVarError: `wk2model` not defined",
      "",
      "Stacktrace:",
      " [1] top-level scope",
      "   @ In[46]:1"
     ]
    }
   ],
   "source": [
    "wk2model.resistor"
   ]
  },
  {
   "cell_type": "markdown",
   "metadata": {},
   "source": [
    "# 3 element Windkessel\n",
    "<img src=\"electric_circuit_diagrams/3_wk.jpg\"  width=\"500\" height=\"250\">"
   ]
  },
  {
   "cell_type": "code",
   "execution_count": 47,
   "metadata": {},
   "outputs": [
    {
     "data": {
      "text/plain": [
       "ModelingToolkit.Model{typeof(__WK3model__), Dict{Symbol, Any}}(__WK3model__, Dict{Symbol, Any}(:components => [[:resistor_p, :Resistor], [:resistor_c, :Resistor], [:capacitor, :Capacitor], [:source, :DrivenCurrent], [:ground, :Ground]], :kwargs => Dict{Symbol, Any}(:resistor_c__R => nothing, :resistor_p__R => nothing, :capacitor__C => nothing, :source__Q => nothing), :independent_variable => t, :equations => [\"connect(source.out, resistor_c.in)\", \"connect(resistor_c.out, resistor_p.in, capacitor.in)\", \"connect(resistor_p.out, capacitor.out, source.in, ground.g)\"]), false)"
      ]
     },
     "execution_count": 47,
     "metadata": {},
     "output_type": "execute_result"
    }
   ],
   "source": [
    "@mtkmodel WK3model begin\n",
    "    @components begin\n",
    "        resistor_p = Resistor(R = 0.9)\n",
    "        resistor_c = Resistor(R = 0.05)\n",
    "        capacitor = Capacitor(C = 1.1)\n",
    "        source = DrivenCurrent(Q = 1.0)\n",
    "        ground = Ground()\n",
    "    end\n",
    "    @equations begin\n",
    "        connect(source.out, resistor_c.in)\n",
    "        connect(resistor_c.out, resistor_p.in, capacitor.in)\n",
    "        connect(resistor_p.out, capacitor.out, source.in, ground.g)\n",
    "    end\n",
    "end"
   ]
  },
  {
   "cell_type": "code",
   "execution_count": 48,
   "metadata": {},
   "outputs": [
    {
     "ename": "LoadError",
     "evalue": "LoadError: UndefVarError: `@mtkbuild` not defined\nin expression starting at In[48]:1",
     "output_type": "error",
     "traceback": [
      "LoadError: UndefVarError: `@mtkbuild` not defined\nin expression starting at In[48]:1",
      ""
     ]
    }
   ],
   "source": [
    "@mtkbuild wk3model = WK3model()\n",
    "u0 = [\n",
    "    wk3model.capacitor.Δp => -78\n",
    "]\n",
    "prob = ODEProblem(wk3model, u0, (0, 6.0))\n",
    "sol_3_elem = solve(prob, RK4(), reltol=1e-6)\n",
    "plot(sol_3_elem, idxs = [wk3model.source.Δp])#,wk3model.capacitor.Δp+wk3model.resistor_c.Δp])"
   ]
  },
  {
   "cell_type": "markdown",
   "metadata": {},
   "source": [
    "# 4 element Windkessel\n",
    "<img src=\"electric_circuit_diagrams/4_wk.jpg\"  width=\"700\" height=\"250\">"
   ]
  },
  {
   "cell_type": "code",
   "execution_count": 49,
   "metadata": {},
   "outputs": [
    {
     "data": {
      "text/plain": [
       "ModelingToolkit.Model{typeof(__WK4model__), Dict{Symbol, Any}}(__WK4model__, Dict{Symbol, Any}(:components => [[:resistor_p, :Resistor], [:resistor_c, :Resistor], [:capacitor, :Capacitor], [:inductor, :Inductor], [:source, :DrivenCurrent], [:ground, :Ground]], :kwargs => Dict{Symbol, Any}(:inductor__L => nothing, :resistor_c__R => nothing, :resistor_p__R => nothing, :capacitor__C => nothing, :source__Q => nothing), :independent_variable => t, :equations => [\"connect(source.out, resistor_c.in)\", \"connect(resistor_c.out, inductor.in)\", \"connect(inductor.out, resistor_p.in, capacitor.in)\", \"connect(resistor_p.out, capacitor.out, source.in, ground.g)\"]), false)"
      ]
     },
     "execution_count": 49,
     "metadata": {},
     "output_type": "execute_result"
    }
   ],
   "source": [
    "@mtkmodel WK4model begin\n",
    "    @components begin\n",
    "        resistor_p = Resistor(R = R)\n",
    "        resistor_c = Resistor(R = r)\n",
    "        capacitor = Capacitor(C = C)\n",
    "        inductor = Inductor(L=L)\n",
    "        source = DrivenCurrent(Q = 1.0)\n",
    "        ground = Ground()\n",
    "    end\n",
    "    @equations begin\n",
    "        connect(source.out, resistor_c.in)\n",
    "        connect(resistor_c.out, inductor.in)\n",
    "        connect(inductor.out, resistor_p.in, capacitor.in)\n",
    "        connect(resistor_p.out, capacitor.out, source.in, ground.g)\n",
    "    end\n",
    "end"
   ]
  },
  {
   "cell_type": "code",
   "execution_count": 50,
   "metadata": {},
   "outputs": [
    {
     "ename": "LoadError",
     "evalue": "UndefVarError: `wk4model` not defined",
     "output_type": "error",
     "traceback": [
      "UndefVarError: `wk4model` not defined",
      ""
     ]
    }
   ],
   "source": [
    "wk4model"
   ]
  },
  {
   "cell_type": "code",
   "execution_count": 51,
   "metadata": {},
   "outputs": [
    {
     "ename": "LoadError",
     "evalue": "LoadError: UndefVarError: `@mtkbuild` not defined\nin expression starting at In[51]:1",
     "output_type": "error",
     "traceback": [
      "LoadError: UndefVarError: `@mtkbuild` not defined\nin expression starting at In[51]:1",
      ""
     ]
    }
   ],
   "source": [
    "@mtkbuild wk4model = WK4model()\n",
    "u0 = [\n",
    "    wk4model.capacitor.Δp => -78\n",
    "]\n",
    "prob = ODEProblem(wk4model, u0, (0, 6.0))\n",
    "sol_4_elem = solve(prob, RK4(), reltol=1e-6)\n",
    "plot(sol_4_elem, idxs = wk4model.source.Δp)"
   ]
  },
  {
   "cell_type": "markdown",
   "metadata": {},
   "source": [
    "# Comparison"
   ]
  },
  {
   "cell_type": "code",
   "execution_count": 52,
   "metadata": {},
   "outputs": [
    {
     "ename": "LoadError",
     "evalue": "UndefVarError: `wk2model` not defined",
     "output_type": "error",
     "traceback": [
      "UndefVarError: `wk2model` not defined",
      "",
      "Stacktrace:",
      " [1] top-level scope",
      "   @ In[52]:1"
     ]
    }
   ],
   "source": [
    "plot(sol_2_elem, idxs = wk2model.source.Δp, labels=\"2 element\", ylabel=\"Pressure\")\n",
    "plot!(sol_3_elem, idxs = wk3model.source.Δp, labels=\"3 element\")\n",
    "# plot!(twinx(), t1, i, c=:black, ls=:dash)\n",
    "plot!(sol_4_elem, idxs = wk4model.source.Δp, labels=\"4 element\")\n",
    "# plot!(sol_4_elem_alt, idxs = wk4model_alt.source.Δp, labels=\"4 element alternative\")"
   ]
  },
  {
   "cell_type": "code",
   "execution_count": null,
   "metadata": {},
   "outputs": [],
   "source": []
  },
  {
   "cell_type": "code",
   "execution_count": null,
   "metadata": {},
   "outputs": [],
   "source": []
  }
 ],
 "metadata": {
  "kernelspec": {
   "display_name": "Julia 1.9.2",
   "language": "julia",
   "name": "julia-1.9"
  },
  "language_info": {
   "file_extension": ".jl",
   "mimetype": "application/julia",
   "name": "julia",
   "version": "1.9.2"
  }
 },
 "nbformat": 4,
 "nbformat_minor": 4
}
